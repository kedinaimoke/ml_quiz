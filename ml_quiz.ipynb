{
 "cells": [
  {
   "cell_type": "code",
   "execution_count": 1,
   "id": "04e092e0-e4e4-414a-b46b-419164285400",
   "metadata": {},
   "outputs": [],
   "source": [
<<<<<<< HEAD
    "import pandas as pd"
=======
    "import pandas as pd\n",
>>>>>>> 52c41ab41e7979f8c67855c92a23f8e99f4911e1
   ]
  },
  {
   "cell_type": "code",
   "execution_count": 2,
   "id": "2dac82bb-8407-441f-893b-570fc70db111",
   "metadata": {},
   "outputs": [
    {
     "data": {
      "text/html": [
       "<div>\n",
       "<style scoped>\n",
       "    .dataframe tbody tr th:only-of-type {\n",
       "        vertical-align: middle;\n",
       "    }\n",
       "\n",
       "    .dataframe tbody tr th {\n",
       "        vertical-align: top;\n",
       "    }\n",
       "\n",
       "    .dataframe thead th {\n",
       "        text-align: right;\n",
       "    }\n",
       "</style>\n",
       "<table border=\"1\" class=\"dataframe\">\n",
       "  <thead>\n",
       "    <tr style=\"text-align: right;\">\n",
       "      <th></th>\n",
       "      <th>Area Code</th>\n",
       "      <th>Area</th>\n",
       "      <th>Item Code</th>\n",
       "      <th>Item</th>\n",
       "      <th>Element Code</th>\n",
       "      <th>Element</th>\n",
       "      <th>Unit</th>\n",
       "      <th>Y2014</th>\n",
       "      <th>Y2015</th>\n",
       "      <th>Y2016</th>\n",
       "      <th>Y2017</th>\n",
       "      <th>Y2018</th>\n",
       "    </tr>\n",
       "  </thead>\n",
       "  <tbody>\n",
       "    <tr>\n",
       "      <th>0</th>\n",
       "      <td>4</td>\n",
       "      <td>Algeria</td>\n",
       "      <td>2501</td>\n",
       "      <td>Population</td>\n",
       "      <td>511</td>\n",
       "      <td>Total Population - Both sexes</td>\n",
       "      <td>1000 persons</td>\n",
       "      <td>38924.00</td>\n",
       "      <td>39728.00</td>\n",
       "      <td>40551.00</td>\n",
       "      <td>41389.00</td>\n",
       "      <td>42228.00</td>\n",
       "    </tr>\n",
       "    <tr>\n",
       "      <th>1</th>\n",
       "      <td>4</td>\n",
       "      <td>Algeria</td>\n",
       "      <td>2501</td>\n",
       "      <td>Population</td>\n",
       "      <td>5301</td>\n",
       "      <td>Domestic supply quantity</td>\n",
       "      <td>1000 tonnes</td>\n",
       "      <td>0.00</td>\n",
       "      <td>0.00</td>\n",
       "      <td>0.00</td>\n",
       "      <td>0.00</td>\n",
       "      <td>0.00</td>\n",
       "    </tr>\n",
       "    <tr>\n",
       "      <th>2</th>\n",
       "      <td>4</td>\n",
       "      <td>Algeria</td>\n",
       "      <td>2901</td>\n",
       "      <td>Grand Total</td>\n",
       "      <td>664</td>\n",
       "      <td>Food supply (kcal/capita/day)</td>\n",
       "      <td>kcal/capita/day</td>\n",
       "      <td>3377.00</td>\n",
       "      <td>3379.00</td>\n",
       "      <td>3372.00</td>\n",
       "      <td>3341.00</td>\n",
       "      <td>3322.00</td>\n",
       "    </tr>\n",
       "    <tr>\n",
       "      <th>3</th>\n",
       "      <td>4</td>\n",
       "      <td>Algeria</td>\n",
       "      <td>2901</td>\n",
       "      <td>Grand Total</td>\n",
       "      <td>674</td>\n",
       "      <td>Protein supply quantity (g/capita/day)</td>\n",
       "      <td>g/capita/day</td>\n",
       "      <td>94.90</td>\n",
       "      <td>94.35</td>\n",
       "      <td>94.72</td>\n",
       "      <td>92.82</td>\n",
       "      <td>91.83</td>\n",
       "    </tr>\n",
       "    <tr>\n",
       "      <th>4</th>\n",
       "      <td>4</td>\n",
       "      <td>Algeria</td>\n",
       "      <td>2901</td>\n",
       "      <td>Grand Total</td>\n",
       "      <td>684</td>\n",
       "      <td>Fat supply quantity (g/capita/day)</td>\n",
       "      <td>g/capita/day</td>\n",
       "      <td>80.06</td>\n",
       "      <td>79.36</td>\n",
       "      <td>77.40</td>\n",
       "      <td>80.19</td>\n",
       "      <td>77.28</td>\n",
       "    </tr>\n",
       "  </tbody>\n",
       "</table>\n",
       "</div>"
      ],
      "text/plain": [
       "   Area Code     Area  Item Code         Item  Element Code  \\\n",
       "0          4  Algeria       2501   Population           511   \n",
       "1          4  Algeria       2501   Population          5301   \n",
       "2          4  Algeria       2901  Grand Total           664   \n",
       "3          4  Algeria       2901  Grand Total           674   \n",
       "4          4  Algeria       2901  Grand Total           684   \n",
       "\n",
       "                                  Element             Unit     Y2014  \\\n",
       "0           Total Population - Both sexes     1000 persons  38924.00   \n",
       "1                Domestic supply quantity      1000 tonnes      0.00   \n",
       "2           Food supply (kcal/capita/day)  kcal/capita/day   3377.00   \n",
       "3  Protein supply quantity (g/capita/day)     g/capita/day     94.90   \n",
       "4      Fat supply quantity (g/capita/day)     g/capita/day     80.06   \n",
       "\n",
       "      Y2015     Y2016     Y2017     Y2018  \n",
       "0  39728.00  40551.00  41389.00  42228.00  \n",
       "1      0.00      0.00      0.00      0.00  \n",
       "2   3379.00   3372.00   3341.00   3322.00  \n",
       "3     94.35     94.72     92.82     91.83  \n",
       "4     79.36     77.40     80.19     77.28  "
      ]
     },
     "execution_count": 2,
     "metadata": {},
     "output_type": "execute_result"
    }
   ],
   "source": [
    "df = pd.read_csv(\"FoodBalanceSheets_E_Africa_NOFLAG.csv\", encoding=\"latin-1\")\n",
    "df.head()"
   ]
  },
  {
   "cell_type": "code",
   "execution_count": 3,
   "id": "88ad8bd3-84d4-4b1a-ab63-5700c8ae96e5",
   "metadata": {},
   "outputs": [
    {
     "data": {
      "text/plain": [
       "'The total number of unique countries: 49'"
      ]
     },
     "execution_count": 3,
     "metadata": {},
     "output_type": "execute_result"
    }
   ],
   "source": [
    "# Get total number of unique countries\n",
    "unique_countries = df[\"Area\"].nunique()\n",
    "f\"The total number of unique countries: {unique_countries}\""
   ]
  },
  {
   "cell_type": "code",
   "execution_count": 4,
   "id": "00913d5e-1b6b-4fe7-afc3-024e4818137a",
   "metadata": {},
   "outputs": [
    {
     "data": {
      "text/plain": [
       "Element\n",
       "Domestic supply quantity                  5295\n",
       "Import Quantity                           5139\n",
       "Protein supply quantity (g/capita/day)    5023\n",
       "Fat supply quantity (g/capita/day)        5023\n",
       "Food supply (kcal/capita/day)             5014\n",
       "Food                                      4941\n",
       "Food supply quantity (kg/capita/yr)       4905\n",
       "Residuals                                 4655\n",
       "Export Quantity                           4403\n",
       "Stock Variation                           4232\n",
       "Production                                3881\n",
       "Processing                                2010\n",
       "Losses                                    2009\n",
       "Other uses (non-food)                     1732\n",
       "Feed                                      1319\n",
       "Seed                                       762\n",
       "Tourist consumption                        555\n",
       "Total Population - Both sexes               45\n",
       "Name: count, dtype: int64"
      ]
     },
     "execution_count": 4,
     "metadata": {},
     "output_type": "execute_result"
    }
   ],
   "source": [
    "df[\"Element\"].value_counts()"
   ]
  },
  {
   "cell_type": "code",
   "execution_count": 5,
   "id": "be63bba9-7027-4558-a34e-4c985117b70d",
   "metadata": {},
   "outputs": [
    {
     "data": {
      "text/plain": [
       "'Year with highest sum of Stock Variation is Y2014'"
      ]
     },
     "execution_count": 5,
     "metadata": {},
     "output_type": "execute_result"
    }
   ],
   "source": [
    "# Get year with highest sum of Stock Variation\n",
    "stock_var = df[df[\"Element\"] == \"Stock Variation\"]\n",
    "highest_yr = stock_var.groupby(\"Element\")[[\"Y2014\", \"Y2015\", \"Y2016\", \"Y2017\", \"Y2018\"]].sum()\n",
    "f\"Year with highest sum of Stock Variation is {highest_yr.idxmax(axis=1).values[0]}\""
   ]
  },
  {
   "cell_type": "code",
   "execution_count": 6,
   "id": "067c30aa-5af9-4acd-bf0d-ae1c460b13e6",
   "metadata": {},
   "outputs": [
    {
     "data": {
      "text/plain": [
       "'Year with the least correlation to Element Code is Y2016'"
      ]
     },
     "execution_count": 6,
     "metadata": {},
     "output_type": "execute_result"
    }
   ],
   "source": [
    "# Get year with least correlation with \"Element Code\"\n",
    "corr_matrix = df[[\"Element Code\", \"Y2014\", \"Y2015\", \"Y2016\", \"Y2017\", \"Y2018\"]].corr()\n",
    "least_corr = corr_matrix[\"Element Code\"].idxmin()\n",
    "f\"Year with the least correlation to Element Code is {least_corr}\""
   ]
  },
  {
   "cell_type": "code",
   "execution_count": 7,
   "id": "f6911bf0-a54d-4895-bdf6-768120883f95",
   "metadata": {},
   "outputs": [
    {
     "data": {
      "text/plain": [
       "'Protein supply for Madagascar in Y2015: 173.04999999999998'"
      ]
     },
     "execution_count": 7,
     "metadata": {},
     "output_type": "execute_result"
    }
   ],
   "source": [
    "# Get protein supply for Madagascar in Y2015\n",
    "filtered_df = df[(df['Area'] == 'Madagascar') & (df['Element'] == 'Protein supply quantity (g/capita/day)')]\n",
    "f\"Protein supply for Madagascar in Y2015: {filtered_df['Y2015'].sum()}\""
   ]
  },
  {
   "cell_type": "code",
   "execution_count": 8,
   "id": "52e73bb8-c461-4122-adf7-f30629aa8201",
   "metadata": {},
   "outputs": [
    {
     "data": {
      "text/plain": [
       "'The total sum of Processing in Y2017: 292836.0'"
      ]
     },
     "execution_count": 8,
     "metadata": {},
     "output_type": "execute_result"
    }
   ],
   "source": [
    "# Get total number of sum of processing in 2017\n",
    "group_df = df.groupby(\"Element\")[\"Y2017\"].sum()\n",
    "processing_2017 = group_df.get(\"Processing\", 0)\n",
    "f\"The total sum of Processing in Y2017: {processing_2017}\""
   ]
  },
  {
   "cell_type": "code",
   "execution_count": 9,
   "id": "511d5b40-a6c8-4e52-a318-32cfaba476aa",
   "metadata": {},
   "outputs": [
    {
     "data": {
      "text/plain": [
       "'Area with highest sum in 2017 is Nigeria'"
      ]
     },
     "execution_count": 9,
     "metadata": {},
     "output_type": "execute_result"
    }
   ],
   "source": [
    "# Area with the highest sum in 2017\n",
    "group_df = df.groupby(\"Area\")[\"Y2017\"].sum()\n",
    "f\"Area with highest sum in 2017 is {group_df.idxmax()}\""
   ]
  },
  {
   "cell_type": "code",
   "execution_count": 10,
   "id": "49ca2a75-aad4-4c74-923f-cc34f70dfec8",
   "metadata": {},
   "outputs": [
    {
     "data": {
      "text/plain": [
       "'Area with 7th lowest sum is Guinea-Bissau'"
      ]
     },
     "execution_count": 10,
     "metadata": {},
     "output_type": "execute_result"
    }
   ],
   "source": [
    "# Area with 7th lowest sum in 2017\n",
    "group_df = df.groupby(\"Area\")[\"Y2017\"].sum().sort_values()\n",
    "f\"Area with 7th lowest sum is {group_df.index[6]}\""
   ]
  },
  {
   "cell_type": "code",
   "execution_count": 11,
   "id": "4ecb4188-eeec-47ea-b7ae-2cec1dbbc89f",
   "metadata": {},
   "outputs": [
    {
     "data": {
      "text/plain": [
       "'Sum of wine produced in 2017 was 4178.02 and 2018 4039.3199999999997'"
      ]
     },
     "execution_count": 11,
     "metadata": {},
     "output_type": "execute_result"
    }
   ],
   "source": [
    "# Total sum of wine produced in 2017 and 2018\n",
    "get_wine = df[df[\"Item\"] == \"Wine\"]\n",
    "sum_17 = get_wine[\"Y2017\"].sum()\n",
    "sum_18 = get_wine[\"Y2018\"].sum()\n",
    "f\"Sum of wine produced in 2017 was {sum_17} and 2018 {sum_18}\""
   ]
  },
  {
   "cell_type": "code",
   "execution_count": 12,
   "id": "0e38207d-2114-4397-9557-c2eb5223c912",
   "metadata": {},
   "outputs": [
    {
     "data": {
      "text/plain": [
       "'The total number of missing values in Y2014 was 1589 and its percentage to 3dp is 2.607%'"
      ]
     },
     "execution_count": 12,
     "metadata": {},
     "output_type": "execute_result"
    }
   ],
   "source": [
    "# Total number and % of missing data in 2014 to 3dp\n",
    "missing_data = df[\"Y2014\"].isnull().sum()\n",
    "total_count = len(df)\n",
    "percent_missing = (missing_data / total_count) * 100\n",
    "f\"The total number of missing values in Y2014 was {missing_data} and its percentage to 3dp is {percent_missing:.3f}%\""
   ]
  },
  {
   "cell_type": "code",
   "execution_count": 13,
   "id": "441daac4-f0e6-4417-a737-61ea16f3b8e2",
   "metadata": {},
   "outputs": [
    {
     "data": {
      "text/plain": [
       "'Mean data for Y2017 is 140.92 and standard deviation for Y2017 is 1671.86'"
      ]
     },
     "execution_count": 13,
     "metadata": {},
     "output_type": "execute_result"
    }
   ],
   "source": [
    "# Mean and standard deviation for Y2017 to dp\n",
    "f\"Mean data for Y2017 is {df['Y2017'].mean():.2f} and standard deviation for Y2017 is {df['Y2017'].std():.2f}\""
   ]
  }
 ],
 "metadata": {
  "kernelspec": {
   "display_name": "Python 3 (ipykernel)",
   "language": "python",
   "name": "python3"
  },
  "language_info": {
   "codemirror_mode": {
    "name": "ipython",
    "version": 3
   },
   "file_extension": ".py",
   "mimetype": "text/x-python",
   "name": "python",
   "nbconvert_exporter": "python",
   "pygments_lexer": "ipython3",
   "version": "3.11.5"
  }
 },
 "nbformat": 4,
 "nbformat_minor": 5
}
