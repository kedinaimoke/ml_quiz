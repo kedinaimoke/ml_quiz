{
 "cells": [
  {
   "cell_type": "code",
   "execution_count": 1,
   "id": "66b8448d-e494-4c6c-8aa9-d25ba66163f5",
   "metadata": {},
   "outputs": [
    {
     "data": {
      "text/html": [
       "<div>\n",
       "<style scoped>\n",
       "    .dataframe tbody tr th:only-of-type {\n",
       "        vertical-align: middle;\n",
       "    }\n",
       "\n",
       "    .dataframe tbody tr th {\n",
       "        vertical-align: top;\n",
       "    }\n",
       "\n",
       "    .dataframe thead th {\n",
       "        text-align: right;\n",
       "    }\n",
       "</style>\n",
       "<table border=\"1\" class=\"dataframe\">\n",
       "  <thead>\n",
       "    <tr style=\"text-align: right;\">\n",
       "      <th></th>\n",
       "      <th>customerID</th>\n",
       "      <th>gender</th>\n",
       "      <th>SeniorCitizen</th>\n",
       "      <th>Partner</th>\n",
       "      <th>Dependents</th>\n",
       "      <th>tenure</th>\n",
       "      <th>PhoneService</th>\n",
       "      <th>MultipleLines</th>\n",
       "      <th>InternetService</th>\n",
       "      <th>OnlineSecurity</th>\n",
       "      <th>...</th>\n",
       "      <th>DeviceProtection</th>\n",
       "      <th>TechSupport</th>\n",
       "      <th>StreamingTV</th>\n",
       "      <th>StreamingMovies</th>\n",
       "      <th>Contract</th>\n",
       "      <th>PaperlessBilling</th>\n",
       "      <th>PaymentMethod</th>\n",
       "      <th>MonthlyCharges</th>\n",
       "      <th>TotalCharges</th>\n",
       "      <th>Churn</th>\n",
       "    </tr>\n",
       "  </thead>\n",
       "  <tbody>\n",
       "    <tr>\n",
       "      <th>0</th>\n",
       "      <td>7590-VHVEG</td>\n",
       "      <td>Female</td>\n",
       "      <td>0</td>\n",
       "      <td>Yes</td>\n",
       "      <td>No</td>\n",
       "      <td>1</td>\n",
       "      <td>No</td>\n",
       "      <td>No phone service</td>\n",
       "      <td>DSL</td>\n",
       "      <td>No</td>\n",
       "      <td>...</td>\n",
       "      <td>No</td>\n",
       "      <td>No</td>\n",
       "      <td>No</td>\n",
       "      <td>No</td>\n",
       "      <td>Month-to-month</td>\n",
       "      <td>Yes</td>\n",
       "      <td>Electronic check</td>\n",
       "      <td>29.85</td>\n",
       "      <td>29.85</td>\n",
       "      <td>No</td>\n",
       "    </tr>\n",
       "    <tr>\n",
       "      <th>1</th>\n",
       "      <td>5575-GNVDE</td>\n",
       "      <td>Male</td>\n",
       "      <td>0</td>\n",
       "      <td>No</td>\n",
       "      <td>No</td>\n",
       "      <td>34</td>\n",
       "      <td>Yes</td>\n",
       "      <td>No</td>\n",
       "      <td>DSL</td>\n",
       "      <td>Yes</td>\n",
       "      <td>...</td>\n",
       "      <td>Yes</td>\n",
       "      <td>No</td>\n",
       "      <td>No</td>\n",
       "      <td>No</td>\n",
       "      <td>One year</td>\n",
       "      <td>No</td>\n",
       "      <td>Mailed check</td>\n",
       "      <td>56.95</td>\n",
       "      <td>1889.5</td>\n",
       "      <td>No</td>\n",
       "    </tr>\n",
       "    <tr>\n",
       "      <th>2</th>\n",
       "      <td>3668-QPYBK</td>\n",
       "      <td>Male</td>\n",
       "      <td>0</td>\n",
       "      <td>No</td>\n",
       "      <td>No</td>\n",
       "      <td>2</td>\n",
       "      <td>Yes</td>\n",
       "      <td>No</td>\n",
       "      <td>DSL</td>\n",
       "      <td>Yes</td>\n",
       "      <td>...</td>\n",
       "      <td>No</td>\n",
       "      <td>No</td>\n",
       "      <td>No</td>\n",
       "      <td>No</td>\n",
       "      <td>Month-to-month</td>\n",
       "      <td>Yes</td>\n",
       "      <td>Mailed check</td>\n",
       "      <td>53.85</td>\n",
       "      <td>108.15</td>\n",
       "      <td>Yes</td>\n",
       "    </tr>\n",
       "    <tr>\n",
       "      <th>3</th>\n",
       "      <td>7795-CFOCW</td>\n",
       "      <td>Male</td>\n",
       "      <td>0</td>\n",
       "      <td>No</td>\n",
       "      <td>No</td>\n",
       "      <td>45</td>\n",
       "      <td>No</td>\n",
       "      <td>No phone service</td>\n",
       "      <td>DSL</td>\n",
       "      <td>Yes</td>\n",
       "      <td>...</td>\n",
       "      <td>Yes</td>\n",
       "      <td>Yes</td>\n",
       "      <td>No</td>\n",
       "      <td>No</td>\n",
       "      <td>One year</td>\n",
       "      <td>No</td>\n",
       "      <td>Bank transfer (automatic)</td>\n",
       "      <td>42.30</td>\n",
       "      <td>1840.75</td>\n",
       "      <td>No</td>\n",
       "    </tr>\n",
       "    <tr>\n",
       "      <th>4</th>\n",
       "      <td>9237-HQITU</td>\n",
       "      <td>Female</td>\n",
       "      <td>0</td>\n",
       "      <td>No</td>\n",
       "      <td>No</td>\n",
       "      <td>2</td>\n",
       "      <td>Yes</td>\n",
       "      <td>No</td>\n",
       "      <td>Fiber optic</td>\n",
       "      <td>No</td>\n",
       "      <td>...</td>\n",
       "      <td>No</td>\n",
       "      <td>No</td>\n",
       "      <td>No</td>\n",
       "      <td>No</td>\n",
       "      <td>Month-to-month</td>\n",
       "      <td>Yes</td>\n",
       "      <td>Electronic check</td>\n",
       "      <td>70.70</td>\n",
       "      <td>151.65</td>\n",
       "      <td>Yes</td>\n",
       "    </tr>\n",
       "  </tbody>\n",
       "</table>\n",
       "<p>5 rows × 21 columns</p>\n",
       "</div>"
      ],
      "text/plain": [
       "   customerID  gender  SeniorCitizen Partner Dependents  tenure PhoneService  \\\n",
       "0  7590-VHVEG  Female              0     Yes         No       1           No   \n",
       "1  5575-GNVDE    Male              0      No         No      34          Yes   \n",
       "2  3668-QPYBK    Male              0      No         No       2          Yes   \n",
       "3  7795-CFOCW    Male              0      No         No      45           No   \n",
       "4  9237-HQITU  Female              0      No         No       2          Yes   \n",
       "\n",
       "      MultipleLines InternetService OnlineSecurity  ... DeviceProtection  \\\n",
       "0  No phone service             DSL             No  ...               No   \n",
       "1                No             DSL            Yes  ...              Yes   \n",
       "2                No             DSL            Yes  ...               No   \n",
       "3  No phone service             DSL            Yes  ...              Yes   \n",
       "4                No     Fiber optic             No  ...               No   \n",
       "\n",
       "  TechSupport StreamingTV StreamingMovies        Contract PaperlessBilling  \\\n",
       "0          No          No              No  Month-to-month              Yes   \n",
       "1          No          No              No        One year               No   \n",
       "2          No          No              No  Month-to-month              Yes   \n",
       "3         Yes          No              No        One year               No   \n",
       "4          No          No              No  Month-to-month              Yes   \n",
       "\n",
       "               PaymentMethod MonthlyCharges  TotalCharges Churn  \n",
       "0           Electronic check          29.85         29.85    No  \n",
       "1               Mailed check          56.95        1889.5    No  \n",
       "2               Mailed check          53.85        108.15   Yes  \n",
       "3  Bank transfer (automatic)          42.30       1840.75    No  \n",
       "4           Electronic check          70.70        151.65   Yes  \n",
       "\n",
       "[5 rows x 21 columns]"
      ]
     },
     "execution_count": 1,
     "metadata": {},
     "output_type": "execute_result"
    }
   ],
   "source": [
    "import pandas as pd\n",
    "\n",
    "customer_df = pd.read_csv(\"WA_Fn-UseC_-Telco-Customer-Churn.csv\")\n",
    "customer_df.head()"
   ]
  },
  {
   "cell_type": "markdown",
   "id": "e56965e8-e2d5-4e63-a991-a933efbe3119",
   "metadata": {},
   "source": [
    "# TODO:\n",
    "## Data Preprocessing:"
   ]
  },
  {
   "cell_type": "code",
   "execution_count": 2,
   "id": "e3599892-3c1e-407b-843b-cfa1201216a9",
   "metadata": {},
   "outputs": [
    {
     "data": {
      "text/plain": [
       "0"
      ]
     },
     "execution_count": 2,
     "metadata": {},
     "output_type": "execute_result"
    }
   ],
   "source": [
    "# first converting the 'TotalCharges' column to numeric values and filling missing values with 0\n",
    "customer_df[\"TotalCharges\"] = pd.to_numeric(customer_df[\"TotalCharges\"], errors=\"coerce\")\n",
    "customer_df[\"TotalCharges\"].fillna(0, inplace=True)\n",
    "customer_df[\"TotalCharges\"].isnull().sum()"
   ]
  },
  {
   "cell_type": "code",
   "execution_count": 3,
   "id": "66415323-3848-4b47-9e83-b016cbfa6d0c",
   "metadata": {},
   "outputs": [
    {
     "data": {
      "text/plain": [
       "array([0, 1], dtype=int64)"
      ]
     },
     "execution_count": 3,
     "metadata": {},
     "output_type": "execute_result"
    }
   ],
   "source": [
    "# Convert the 'Churn' column to binary values, where 'No' is mapped to 0 and 'Yes' is mapped to 1\n",
    "customer_df[\"Churn\"] = customer_df[\"Churn\"].map({\"No\": 0, \"Yes\": 1})\n",
    "pd.unique(customer_df[\"Churn\"])"
   ]
  },
  {
   "cell_type": "code",
   "execution_count": 4,
   "id": "ff90821d-6712-4810-b839-55f78c08a821",
   "metadata": {},
   "outputs": [
    {
     "name": "stdout",
     "output_type": "stream",
     "text": [
      "customerID          0\n",
      "gender              0\n",
      "SeniorCitizen       0\n",
      "Partner             0\n",
      "Dependents          0\n",
      "tenure              0\n",
      "PhoneService        0\n",
      "MultipleLines       0\n",
      "InternetService     0\n",
      "OnlineSecurity      0\n",
      "OnlineBackup        0\n",
      "DeviceProtection    0\n",
      "TechSupport         0\n",
      "StreamingTV         0\n",
      "StreamingMovies     0\n",
      "Contract            0\n",
      "PaperlessBilling    0\n",
      "PaymentMethod       0\n",
      "MonthlyCharges      0\n",
      "TotalCharges        0\n",
      "Churn               0\n",
      "dtype: int64\n"
     ]
    }
   ],
   "source": [
    "print(customer_df.isnull().sum())"
   ]
  },
  {
   "cell_type": "code",
   "execution_count": 5,
   "id": "3a6d57ed-abea-41d0-87be-4e9171a07b7e",
   "metadata": {},
   "outputs": [
    {
     "name": "stdout",
     "output_type": "stream",
     "text": [
      "This is X_train shape:(5634, 20)\n",
      "This is X_test shape:(1409, 20)\n",
      "This is Y_train shape:(5634,)\n",
      "This is Y_test shape:(1409,)\n"
     ]
    }
   ],
   "source": [
    "# Split the data into an 80-20 train-test split with a random state of “1”\n",
    "from sklearn.model_selection import train_test_split\n",
    "\n",
    "X = customer_df.drop(\"Churn\", axis=1)\n",
    "Y = customer_df[\"Churn\"]\n",
    "\n",
    "X_train, X_test, Y_train, Y_test = train_test_split(X, Y, test_size=0.2, random_state=1)\n",
    "\n",
    "print(f\"This is X_train shape:{X_train.shape}\")\n",
    "print(f\"This is X_test shape:{X_test.shape}\")\n",
    "print(f\"This is Y_train shape:{Y_train.shape}\")\n",
    "print(f\"This is Y_test shape:{Y_test.shape}\")"
   ]
  },
  {
   "cell_type": "markdown",
   "id": "e81fe99b-37d1-466e-9070-f98170ea6f1e",
   "metadata": {},
   "source": [
    "## Feature Engineering"
   ]
  },
  {
   "cell_type": "code",
   "execution_count": 6,
   "id": "96a91316-7f41-4260-978b-56c79f440412",
   "metadata": {},
   "outputs": [],
   "source": [
    "# Selected features\n",
    "categorical_col = [\"gender\", \"SeniorCitizen\", \"Partner\", \"Dependents\", \"PhoneService\", \"MultipleLines\", \"InternetService\",\n",
    "               \"OnlineSecurity\", \"OnlineBackup\", \"DeviceProtection\", \"TechSupport\", \"StreamingTV\", \"StreamingMovies\",\n",
    "               \"Contract\", \"PaperlessBilling\", \"PaymentMethod\"]\n",
    "\n",
    "numerical_col = [\"tenure\", \"MonthlyCharges\", \"TotalCharges\"]"
   ]
  },
  {
   "cell_type": "code",
   "execution_count": 7,
   "id": "aa0879cc-27d8-470c-a0b7-84e45108301b",
   "metadata": {},
   "outputs": [],
   "source": [
    "from sklearn.impute import SimpleImputer\n",
    "\n",
    "# Potential nan values were addressed using SimpleImputer:\n",
    "\n",
    "numerical_imputer = SimpleImputer(strategy=\"mean\")\n",
    "categorical_imputer = SimpleImputer(strategy=\"most_frequent\")\n",
    "\n",
    "X_train[numerical_col] = numerical_imputer.fit_transform(X_train[numerical_col])\n",
    "X_test[numerical_col] = numerical_imputer.transform(X_test[numerical_col])\n",
    "X_train[numerical_col] = pd.DataFrame(X_train[numerical_col], columns=numerical_col, index=X_train.index)\n",
    "X_test[numerical_col] = pd.DataFrame(X_test[numerical_col], columns=numerical_col, index=X_test.index)\n",
    "\n",
    "X_train[categorical_col] = categorical_imputer.fit_transform(X_train[categorical_col])\n",
    "X_test[categorical_col] = categorical_imputer.transform(X_test[categorical_col])"
   ]
  },
  {
   "cell_type": "code",
   "execution_count": 8,
   "id": "b57e9bb9-04b6-4eff-97c7-b7e800c9b171",
   "metadata": {},
   "outputs": [],
   "source": [
    "# numerical features should be scaled using StandardScaler, convert the output back to a dataframe and put back the column names\n",
    "from sklearn.preprocessing import StandardScaler\n",
    "\n",
    "scaler = StandardScaler()\n",
    "X_train[numerical_col] = scaler.fit_transform(X_train[numerical_col])\n",
    "X_test[numerical_col] = scaler.transform(X_test[numerical_col])"
   ]
  },
  {
   "cell_type": "code",
   "execution_count": 9,
   "id": "9b354aaa-c3cd-4217-990b-72e19da7b25f",
   "metadata": {},
   "outputs": [],
   "source": [
    "# categorical features are one-hot encoded using OneHotEncoder(set sparse_output to false), \n",
    "# convert the output back to a dataframe and put back the column names\n",
    "from sklearn.preprocessing import OneHotEncoder\n",
    "\n",
    "encoder = OneHotEncoder(sparse_output=False)\n",
    "X_train_cat = encoder.fit_transform(X_train[categorical_col])\n",
    "X_test_cat = encoder.transform(X_test[categorical_col])\n",
    "\n",
    "X_train_cat = pd.DataFrame(X_train_cat, columns=encoder.get_feature_names_out(input_features=categorical_col), index=X_train.index)\n",
    "X_test_cat = pd.DataFrame(X_test_cat, columns=encoder.get_feature_names_out(input_features=categorical_col), index=X_test.index)"
   ]
  },
  {
   "cell_type": "code",
   "execution_count": 10,
   "id": "a4a6fc4e-9766-45a9-926d-a90a19c1d2db",
   "metadata": {},
   "outputs": [],
   "source": [
    "# Combine scaled numerical and one-hot encoded categorical features into train and test set dataframes (use pd.concat)\n",
    "\n",
    "X_train_processed = pd.concat([X_train[numerical_col], X_train_cat], axis=1)\n",
    "X_test_processed = pd.concat([X_test[numerical_col], X_test_cat], axis=1)"
   ]
  },
  {
   "cell_type": "code",
   "execution_count": 11,
   "id": "1645b2f2-6531-4ed5-8ff7-5d8d3edde529",
   "metadata": {},
   "outputs": [
    {
     "name": "stdout",
     "output_type": "stream",
     "text": [
      "tenure                                     0\n",
      "MonthlyCharges                             0\n",
      "TotalCharges                               0\n",
      "gender_Female                              0\n",
      "gender_Male                                0\n",
      "SeniorCitizen_0                            0\n",
      "SeniorCitizen_1                            0\n",
      "Partner_No                                 0\n",
      "Partner_Yes                                0\n",
      "Dependents_No                              0\n",
      "Dependents_Yes                             0\n",
      "PhoneService_No                            0\n",
      "PhoneService_Yes                           0\n",
      "MultipleLines_No                           0\n",
      "MultipleLines_No phone service             0\n",
      "MultipleLines_Yes                          0\n",
      "InternetService_DSL                        0\n",
      "InternetService_Fiber optic                0\n",
      "InternetService_No                         0\n",
      "OnlineSecurity_No                          0\n",
      "OnlineSecurity_No internet service         0\n",
      "OnlineSecurity_Yes                         0\n",
      "OnlineBackup_No                            0\n",
      "OnlineBackup_No internet service           0\n",
      "OnlineBackup_Yes                           0\n",
      "DeviceProtection_No                        0\n",
      "DeviceProtection_No internet service       0\n",
      "DeviceProtection_Yes                       0\n",
      "TechSupport_No                             0\n",
      "TechSupport_No internet service            0\n",
      "TechSupport_Yes                            0\n",
      "StreamingTV_No                             0\n",
      "StreamingTV_No internet service            0\n",
      "StreamingTV_Yes                            0\n",
      "StreamingMovies_No                         0\n",
      "StreamingMovies_No internet service        0\n",
      "StreamingMovies_Yes                        0\n",
      "Contract_Month-to-month                    0\n",
      "Contract_One year                          0\n",
      "Contract_Two year                          0\n",
      "PaperlessBilling_No                        0\n",
      "PaperlessBilling_Yes                       0\n",
      "PaymentMethod_Bank transfer (automatic)    0\n",
      "PaymentMethod_Credit card (automatic)      0\n",
      "PaymentMethod_Electronic check             0\n",
      "PaymentMethod_Mailed check                 0\n",
      "dtype: int64\n"
     ]
    }
   ],
   "source": [
    "print(X_train_processed.isnull().sum())"
   ]
  },
  {
   "cell_type": "code",
   "execution_count": 12,
   "id": "5d9d795d-07b7-4fb3-9083-5d54b4ec1738",
   "metadata": {},
   "outputs": [
    {
     "name": "stdout",
     "output_type": "stream",
     "text": [
      "[LightGBM] [Warning] Found whitespace in feature_names, replace with underlines\n",
      "[LightGBM] [Info] Number of positive: 1521, number of negative: 4113\n",
      "[LightGBM] [Info] Auto-choosing row-wise multi-threading, the overhead of testing was 0.000658 seconds.\n",
      "You can set `force_row_wise=true` to remove the overhead.\n",
      "And if memory is not enough, you can set `force_col_wise=true`.\n",
      "[LightGBM] [Info] Total Bins 670\n",
      "[LightGBM] [Info] Number of data points in the train set: 5634, number of used features: 46\n",
      "[LightGBM] [Info] [binary:BoostFromScore]: pavg=0.269968 -> initscore=-0.994785\n",
      "[LightGBM] [Info] Start training from score -0.994785\n",
      "| Model                    |   Accuracy | Classification Report                                 |\n",
      "|:-------------------------|-----------:|:------------------------------------------------------|\n",
      "| Random Forest Classifier |   0.791341 | precision    recall  f1-score   support               |\n",
      "|                          |            |                                                       |\n",
      "|                          |            |            0       0.85      0.88      0.86      1061 |\n",
      "|                          |            |            1       0.58      0.53      0.56       348 |\n",
      "|                          |            |                                                       |\n",
      "|                          |            |     accuracy                           0.79      1409 |\n",
      "|                          |            |    macro avg       0.72      0.71      0.71      1409 |\n",
      "|                          |            | weighted avg       0.79      0.79      0.79      1409 |\n",
      "| Extra Trees Classifier   |   0.767211 | precision    recall  f1-score   support               |\n",
      "|                          |            |                                                       |\n",
      "|                          |            |            0       0.83      0.86      0.85      1061 |\n",
      "|                          |            |            1       0.53      0.47      0.50       348 |\n",
      "|                          |            |                                                       |\n",
      "|                          |            |     accuracy                           0.77      1409 |\n",
      "|                          |            |    macro avg       0.68      0.67      0.67      1409 |\n",
      "|                          |            | weighted avg       0.76      0.77      0.76      1409 |\n",
      "| XGBoost Classifier       |   0.793471 | precision    recall  f1-score   support               |\n",
      "|                          |            |                                                       |\n",
      "|                          |            |            0       0.86      0.87      0.86      1061 |\n",
      "|                          |            |            1       0.59      0.56      0.57       348 |\n",
      "|                          |            |                                                       |\n",
      "|                          |            |     accuracy                           0.79      1409 |\n",
      "|                          |            |    macro avg       0.72      0.71      0.72      1409 |\n",
      "|                          |            | weighted avg       0.79      0.79      0.79      1409 |\n",
      "| LightGBM Classifier      |   0.803407 | precision    recall  f1-score   support               |\n",
      "|                          |            |                                                       |\n",
      "|                          |            |            0       0.87      0.87      0.87      1061 |\n",
      "|                          |            |            1       0.61      0.59      0.60       348 |\n",
      "|                          |            |                                                       |\n",
      "|                          |            |     accuracy                           0.80      1409 |\n",
      "|                          |            |    macro avg       0.74      0.73      0.73      1409 |\n",
      "|                          |            | weighted avg       0.80      0.80      0.80      1409 |\n"
     ]
    }
   ],
   "source": [
    "# Use scikit learn to train a random forest and extra trees classifier, and use xgboost and lightgbm to \n",
    "# train an extreme boosting model and a light gradient boosting model. Use random_state = 1 for \n",
    "# training all models and evaluate on the test set. \n",
    "\n",
    "from sklearn.ensemble import RandomForestClassifier, ExtraTreesClassifier\n",
    "from xgboost import XGBClassifier\n",
    "import lightgbm as lgb\n",
    "from sklearn.metrics import accuracy_score, classification_report\n",
    "from tabulate import tabulate\n",
    "import warnings\n",
    "warnings.filterwarnings(\"ignore\")\n",
    "\n",
    "results = []\n",
    "\n",
    "models = [\n",
    "    (\"Random Forest Classifier\", RandomForestClassifier(random_state=1)),\n",
    "    (\"Extra Trees Classifier\", ExtraTreesClassifier(random_state=1)),\n",
    "    (\"XGBoost Classifier\", XGBClassifier(random_state=1)),\n",
    "    (\"LightGBM Classifier\", lgb.LGBMClassifier(random_state=1))\n",
    "]\n",
    "\n",
    "for name, model in models:\n",
    "    model.fit(X_train_processed, Y_train)\n",
    "    y_pred = model.predict(X_test_processed)\n",
    "    accuracy = accuracy_score(Y_test, y_pred)\n",
    "    report = classification_report(Y_test, y_pred)\n",
    "    results.append([name, accuracy, report])\n",
    "\n",
    "table = tabulate(results, headers=[\"Model\", \"Accuracy\", \"Classification Report\"], tablefmt=\"pipe\")\n",
    "print(table)"
   ]
  },
  {
   "cell_type": "code",
   "execution_count": 13,
   "id": "1b3a0772-6070-425c-972d-b4a2946fac87",
   "metadata": {},
   "outputs": [
    {
     "name": "stdout",
     "output_type": "stream",
     "text": [
      "Fitting 5 folds for each of 10 candidates, totalling 50 fits\n",
      "Best Hyperparameters: {'n_estimators': 1000, 'min_samples_split': 9, 'min_samples_leaf': 8, 'max_features': 'sqrt'}\n"
     ]
    }
   ],
   "source": [
    "# getting the best hyperparameters from the randomized search CV?\n",
    "from sklearn.ensemble import ExtraTreesClassifier\n",
    "from sklearn.model_selection import RandomizedSearchCV\n",
    "\n",
    "n_estimators = [50, 100, 300, 500, 1000]\n",
    "min_samples_split = [2, 3, 5, 7, 9]\n",
    "min_samples_leaf = [1, 2, 4, 6, 8]\n",
    "max_features = ['auto', 'sqrt', 'log2', None]\n",
    "\n",
    "hyperparameter_grid = {\n",
    "    'n_estimators': n_estimators,\n",
    "    'min_samples_leaf': min_samples_leaf,\n",
    "    'min_samples_split': min_samples_split,\n",
    "    'max_features': max_features\n",
    "}\n",
    "\n",
    "etc = ExtraTreesClassifier(random_state=1)\n",
    "\n",
    "random_search = RandomizedSearchCV(\n",
    "    etc, \n",
    "    param_distributions=hyperparameter_grid,\n",
    "    n_iter=10,\n",
    "    scoring='accuracy',\n",
    "    cv=5,\n",
    "    n_jobs=-1,\n",
    "    verbose=1,\n",
    "    random_state=1\n",
    ")\n",
    "\n",
    "random_search.fit(X_train_processed, Y_train)\n",
    "\n",
    "best_hyperparameters = random_search.best_params_\n",
    "print(f\"Best Hyperparameters: {best_hyperparameters}\")"
   ]
  },
  {
   "cell_type": "code",
   "execution_count": 14,
   "id": "f1186d10-0bd5-49e8-9922-93d2469b2668",
   "metadata": {},
   "outputs": [
    {
     "name": "stdout",
     "output_type": "stream",
     "text": [
      "Two most important features:\n",
      "                    Feature  Importance\n",
      "37  Contract_Month-to-month    0.152237\n",
      "0                    tenure    0.092800\n"
     ]
    }
   ],
   "source": [
    "# Feature importance using the optimal ExtraTreesClassifier model to get the two most important features\n",
    "etc = random_search.best_estimator_\n",
    "\n",
    "feature_importances = etc.feature_importances_\n",
    "feature_names = X_train_processed.columns\n",
    "feature_importance_df = pd.DataFrame({'Feature': feature_names, 'Importance': feature_importances})\n",
    "\n",
    "feature_importance_df = feature_importance_df.sort_values(by='Importance', ascending=False)\n",
    "\n",
    "two_most_important_features = feature_importance_df.head(2)\n",
    "\n",
    "print(\"Two most important features:\")\n",
    "print(two_most_important_features)"
   ]
  },
  {
   "cell_type": "code",
   "execution_count": 15,
   "id": "43415cf6-748c-439e-b627-859ad0016ca7",
   "metadata": {},
   "outputs": [
    {
     "name": "stdout",
     "output_type": "stream",
     "text": [
      "0.8181818181818182\n",
      "0.9647668393782383\n",
      "This is the overall f1 score: 0.845774292759968\n"
     ]
    }
   ],
   "source": [
    "spamclass = 2 * (0.90 * 0.75) / (0.90 + 0.75)\n",
    "not_spamclass = 2 * (0.95 * 0.98) / (0.95 + 0.98)\n",
    "print(spamclass)\n",
    "print(not_spamclass)\n",
    "overall_score = (spamclass * 1380 + not_spamclass * 320) / 1700\n",
    "print(\"This is the overall f1 score:\", overall_score)"
   ]
  },
  {
   "cell_type": "code",
   "execution_count": null,
   "id": "68a7c63a-c939-4458-9c96-e0833e2da1e2",
   "metadata": {},
   "outputs": [],
   "source": []
  }
 ],
 "metadata": {
  "kernelspec": {
   "display_name": "Python 3 (ipykernel)",
   "language": "python",
   "name": "python3"
  },
  "language_info": {
   "codemirror_mode": {
    "name": "ipython",
    "version": 3
   },
   "file_extension": ".py",
   "mimetype": "text/x-python",
   "name": "python",
   "nbconvert_exporter": "python",
   "pygments_lexer": "ipython3",
   "version": "3.11.5"
  }
 },
 "nbformat": 4,
 "nbformat_minor": 5
}
